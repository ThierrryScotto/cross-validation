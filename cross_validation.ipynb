{
  "nbformat": 4,
  "nbformat_minor": 0,
  "metadata": {
    "colab": {
      "provenance": [],
      "authorship_tag": "ABX9TyMKKTmx+WCShkCBJuvc/CsE",
      "include_colab_link": true
    },
    "kernelspec": {
      "name": "python3",
      "display_name": "Python 3"
    },
    "language_info": {
      "name": "python"
    }
  },
  "cells": [
    {
      "cell_type": "markdown",
      "metadata": {
        "id": "view-in-github",
        "colab_type": "text"
      },
      "source": [
        "<a href=\"https://colab.research.google.com/github/ThierrryScotto/cross-validation/blob/main/cross_validation.ipynb\" target=\"_parent\"><img src=\"https://colab.research.google.com/assets/colab-badge.svg\" alt=\"Open In Colab\"/></a>"
      ]
    },
    {
      "cell_type": "code",
      "execution_count": null,
      "metadata": {
        "id": "d0XWkwXczcUM"
      },
      "outputs": [],
      "source": [
        "import numpy as np\n",
        "import pandas as np\n",
        "from sklearn.model_selection import TimeSeriesSplit"
      ]
    },
    {
      "cell_type": "markdown",
      "source": [
        "## Rolling Forecast Origin\n",
        "\n",
        "The following code and output provide a simplified view of how rolling forecast horizons work in practice"
      ],
      "metadata": {
        "id": "WVbDwhIR0_H5"
      }
    },
    {
      "cell_type": "code",
      "source": [
        "def rolling_forecast_origin(train, min_train_size, horizon):\n",
        "  '''\n",
        "  Roling forecast origin generator.\n",
        "  '''\n",
        "  for i in range(len(train) - min_train_size - horizon + 1):\n",
        "    split_train = train[:min_train_size + i]\n",
        "    split_val = train[min_train_size + i : min_train_size + i + horizon]\n",
        "    yield split_train, split_val"
      ],
      "metadata": {
        "id": "qQZvfGjdueT4"
      },
      "execution_count": null,
      "outputs": []
    },
    {
      "cell_type": "code",
      "source": [
        "full_series = [2502, 2414, 2800, 2143, 2708, 1900, 2333, 2222, 1234, 3456]\n",
        "\n",
        "test = full_series[-2:]\n",
        "train = full_series[:-2]\n",
        "print(\"Full training set: {0}\".format(train))\n",
        "print(\"Full test set: {0}\".format(test))"
      ],
      "metadata": {
        "colab": {
          "base_uri": "https://localhost:8080/"
        },
        "id": "kIsOOEi8vWTv",
        "outputId": "32dbf96b-a5d4-4566-d30e-e9365dfae13c"
      },
      "execution_count": null,
      "outputs": [
        {
          "output_type": "stream",
          "name": "stdout",
          "text": [
            "Full training set: [2502, 2414, 2800, 2143, 2708, 1900, 2333, 2222]\n",
            "Full test set: [1234, 3456]\n"
          ]
        }
      ]
    },
    {
      "cell_type": "code",
      "source": [
        "cv_rolling = rolling_forecast_origin(train, min_train_size=4, horizon=1)\n",
        "cv_rolling\n",
        "\n",
        "i = 0\n",
        "\n",
        "for cv_train, cv_val in cv_rolling:\n",
        "  print(f'CV[{i+1}]')\n",
        "  print(f'Train:\\t{cv_train}')\n",
        "  print(f'Val:\\t{cv_val}')\n",
        "  print('----------')\n",
        "  i += 1"
      ],
      "metadata": {
        "colab": {
          "base_uri": "https://localhost:8080/"
        },
        "id": "4XLFmxKixa_n",
        "outputId": "5a00e022-1615-43c7-d1e2-c44e751c1530"
      },
      "execution_count": null,
      "outputs": [
        {
          "output_type": "stream",
          "name": "stdout",
          "text": [
            "CV[1]\n",
            "Train:\t[2502, 2414, 2800, 2143]\n",
            "Val:\t[2708]\n",
            "----------\n",
            "CV[2]\n",
            "Train:\t[2502, 2414, 2800, 2143, 2708]\n",
            "Val:\t[1900]\n",
            "----------\n",
            "CV[3]\n",
            "Train:\t[2502, 2414, 2800, 2143, 2708, 1900]\n",
            "Val:\t[2333]\n",
            "----------\n",
            "CV[4]\n",
            "Train:\t[2502, 2414, 2800, 2143, 2708, 1900, 2333]\n",
            "Val:\t[2222]\n",
            "----------\n"
          ]
        }
      ]
    },
    {
      "cell_type": "markdown",
      "source": [
        "## Sliding Window Cross Validation"
      ],
      "metadata": {
        "id": "XXe-BWDSzXCn"
      }
    },
    {
      "cell_type": "code",
      "source": [
        "def sliding_window(train, window_size, horizon):\n",
        "  '''\n",
        "  Sliding window generator.\n",
        "  '''\n",
        "  for i in range(len(train) - window_size - horizon + 1):\n",
        "    split_train = train[i : window_size + i]\n",
        "    split_val = train[i + window_size : window_size + i + horizon]\n",
        "    yield split_train, split_val"
      ],
      "metadata": {
        "id": "XkH5xtxSzcRF"
      },
      "execution_count": null,
      "outputs": []
    },
    {
      "cell_type": "code",
      "source": [
        "cv_sliding = sliding_window(train, window_size=4, horizon=1)\n",
        "\n",
        "print('full training set {0}\\n'.format(train))\n",
        "\n",
        "i = 0\n",
        "for cv_train, cv_val in cv_sliding:\n",
        "    print(f'CV[{i+1}]')\n",
        "    print(f'Train:\\t{cv_train}')\n",
        "    print(f'Val:\\t{cv_val}')\n",
        "    print('----------')\n",
        "    i += 1"
      ],
      "metadata": {
        "colab": {
          "base_uri": "https://localhost:8080/"
        },
        "id": "ynvcLKbK0IqZ",
        "outputId": "ae502bd2-8c4c-48a7-c99c-0e6a4cbe8ec8"
      },
      "execution_count": null,
      "outputs": [
        {
          "output_type": "stream",
          "name": "stdout",
          "text": [
            "full training set [2502, 2414, 2800, 2143, 2708, 1900, 2333, 2222]\n",
            "\n",
            "CV[1]\n",
            "Train:\t[2502, 2414, 2800, 2143]\n",
            "Val:\t[2708]\n",
            "----------\n",
            "CV[2]\n",
            "Train:\t[2414, 2800, 2143, 2708]\n",
            "Val:\t[1900]\n",
            "----------\n",
            "CV[3]\n",
            "Train:\t[2800, 2143, 2708, 1900]\n",
            "Val:\t[2333]\n",
            "----------\n",
            "CV[4]\n",
            "Train:\t[2143, 2708, 1900, 2333]\n",
            "Val:\t[2222]\n",
            "----------\n"
          ]
        }
      ]
    },
    {
      "cell_type": "markdown",
      "source": [
        "# Cross Validation example"
      ],
      "metadata": {
        "id": "vmhC4B5w2yfC"
      }
    },
    {
      "cell_type": "code",
      "source": [
        "def cross_validation_score(model, train, cv, metric):\n",
        "  '''\n",
        "  Calculate cross validation scores\n",
        "  '''\n",
        "  cv_scores = []\n",
        "  for cv_train, cv_test in cv:\n",
        "    model.fit(cv_train)\n",
        "    preds = model.predict(horizon=(len(cv_test)))\n",
        "    score = metric(y_true=cv_test, y_pred=preds)\n",
        "    cv_scores.append(score)\n",
        "    return np.array(cv_scores)"
      ],
      "metadata": {
        "id": "OJ2EWAnT0hud"
      },
      "execution_count": null,
      "outputs": []
    },
    {
      "cell_type": "code",
      "source": [
        "import forecast\n",
        "from sklearn.metrics import mean_absolute_error"
      ],
      "metadata": {
        "id": "AUcgqR7I3ixl"
      },
      "execution_count": null,
      "outputs": []
    },
    {
      "cell_type": "code",
      "source": [
        "forecast.baseline"
      ],
      "metadata": {
        "colab": {
          "base_uri": "https://localhost:8080/",
          "height": 171
        },
        "id": "I0WgLGFT4iUg",
        "outputId": "cb455c05-ba80-411a-c230-90f64757312e"
      },
      "execution_count": null,
      "outputs": [
        {
          "output_type": "error",
          "ename": "AttributeError",
          "evalue": "ignored",
          "traceback": [
            "\u001b[0;31m---------------------------------------------------------------------------\u001b[0m",
            "\u001b[0;31mAttributeError\u001b[0m                            Traceback (most recent call last)",
            "\u001b[0;32m<ipython-input-25-83f357b4f7ec>\u001b[0m in \u001b[0;36m<module>\u001b[0;34m\u001b[0m\n\u001b[0;32m----> 1\u001b[0;31m \u001b[0mforecast\u001b[0m\u001b[0;34m.\u001b[0m\u001b[0mbaseline\u001b[0m\u001b[0;34m\u001b[0m\u001b[0;34m\u001b[0m\u001b[0m\n\u001b[0m",
            "\u001b[0;31mAttributeError\u001b[0m: module 'forecast' has no attribute 'baseline'"
          ]
        }
      ]
    },
    {
      "cell_type": "code",
      "source": [],
      "metadata": {
        "id": "iaB2xt-b6R0P"
      },
      "execution_count": null,
      "outputs": []
    }
  ]
}