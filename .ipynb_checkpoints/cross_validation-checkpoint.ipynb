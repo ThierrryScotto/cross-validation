{
 "cells": [
  {
   "cell_type": "markdown",
   "metadata": {
    "colab_type": "text",
    "id": "view-in-github"
   },
   "source": [
    "<a href=\"https://colab.research.google.com/github/ThierrryScotto/cross-validation/blob/main/cross_validation.ipynb\" target=\"_parent\"><img src=\"https://colab.research.google.com/assets/colab-badge.svg\" alt=\"Open In Colab\"/></a>"
   ]
  },
  {
   "cell_type": "code",
   "execution_count": null,
   "metadata": {
    "id": "d0XWkwXczcUM"
   },
   "outputs": [],
   "source": [
    "import numpy as np\n",
    "import pandas as np\n",
    "from sklearn.model_selection import TimeSeriesSplit"
   ]
  },
  {
   "cell_type": "markdown",
   "metadata": {
    "id": "WVbDwhIR0_H5"
   },
   "source": [
    "## Rolling Forecast Origin\n",
    "\n",
    "The following code and output provide a simplified view of how rolling forecast horizons work in practice"
   ]
  },
  {
   "cell_type": "code",
   "execution_count": null,
   "metadata": {
    "id": "qQZvfGjdueT4"
   },
   "outputs": [],
   "source": [
    "def rolling_forecast_origin(train, min_train_size, horizon):\n",
    "  '''\n",
    "  Roling forecast origin generator.\n",
    "  '''\n",
    "  for i in range(len(train) - min_train_size - horizon + 1):\n",
    "    split_train = train[:min_train_size + i]\n",
    "    split_val = train[min_train_size + i : min_train_size + i + horizon]\n",
    "    yield split_train, split_val"
   ]
  },
  {
   "cell_type": "code",
   "execution_count": null,
   "metadata": {
    "colab": {
     "base_uri": "https://localhost:8080/"
    },
    "id": "kIsOOEi8vWTv",
    "outputId": "32dbf96b-a5d4-4566-d30e-e9365dfae13c"
   },
   "outputs": [
    {
     "name": "stdout",
     "output_type": "stream",
     "text": [
      "Full training set: [2502, 2414, 2800, 2143, 2708, 1900, 2333, 2222]\n",
      "Full test set: [1234, 3456]\n"
     ]
    }
   ],
   "source": [
    "full_series = [2502, 2414, 2800, 2143, 2708, 1900, 2333, 2222, 1234, 3456]\n",
    "\n",
    "test = full_series[-2:]\n",
    "train = full_series[:-2]\n",
    "print(\"Full training set: {0}\".format(train))\n",
    "print(\"Full test set: {0}\".format(test))"
   ]
  },
  {
   "cell_type": "code",
   "execution_count": null,
   "metadata": {
    "colab": {
     "base_uri": "https://localhost:8080/"
    },
    "id": "4XLFmxKixa_n",
    "outputId": "5a00e022-1615-43c7-d1e2-c44e751c1530"
   },
   "outputs": [
    {
     "name": "stdout",
     "output_type": "stream",
     "text": [
      "CV[1]\n",
      "Train:\t[2502, 2414, 2800, 2143]\n",
      "Val:\t[2708]\n",
      "----------\n",
      "CV[2]\n",
      "Train:\t[2502, 2414, 2800, 2143, 2708]\n",
      "Val:\t[1900]\n",
      "----------\n",
      "CV[3]\n",
      "Train:\t[2502, 2414, 2800, 2143, 2708, 1900]\n",
      "Val:\t[2333]\n",
      "----------\n",
      "CV[4]\n",
      "Train:\t[2502, 2414, 2800, 2143, 2708, 1900, 2333]\n",
      "Val:\t[2222]\n",
      "----------\n"
     ]
    }
   ],
   "source": [
    "cv_rolling = rolling_forecast_origin(train, min_train_size=4, horizon=1)\n",
    "cv_rolling\n",
    "\n",
    "i = 0\n",
    "\n",
    "for cv_train, cv_val in cv_rolling:\n",
    "  print(f'CV[{i+1}]')\n",
    "  print(f'Train:\\t{cv_train}')\n",
    "  print(f'Val:\\t{cv_val}')\n",
    "  print('----------')\n",
    "  i += 1"
   ]
  },
  {
   "cell_type": "markdown",
   "metadata": {
    "id": "XXe-BWDSzXCn"
   },
   "source": [
    "## Sliding Window Cross Validation"
   ]
  },
  {
   "cell_type": "code",
   "execution_count": null,
   "metadata": {
    "id": "XkH5xtxSzcRF"
   },
   "outputs": [],
   "source": [
    "def sliding_window(train, window_size, horizon):\n",
    "  '''\n",
    "  Sliding window generator.\n",
    "  '''\n",
    "  for i in range(len(train) - window_size - horizon + 1):\n",
    "    split_train = train[i : window_size + i]\n",
    "    split_val = train[i + window_size : window_size + i + horizon]\n",
    "    yield split_train, split_val"
   ]
  },
  {
   "cell_type": "code",
   "execution_count": null,
   "metadata": {
    "colab": {
     "base_uri": "https://localhost:8080/"
    },
    "id": "ynvcLKbK0IqZ",
    "outputId": "ae502bd2-8c4c-48a7-c99c-0e6a4cbe8ec8"
   },
   "outputs": [
    {
     "name": "stdout",
     "output_type": "stream",
     "text": [
      "full training set [2502, 2414, 2800, 2143, 2708, 1900, 2333, 2222]\n",
      "\n",
      "CV[1]\n",
      "Train:\t[2502, 2414, 2800, 2143]\n",
      "Val:\t[2708]\n",
      "----------\n",
      "CV[2]\n",
      "Train:\t[2414, 2800, 2143, 2708]\n",
      "Val:\t[1900]\n",
      "----------\n",
      "CV[3]\n",
      "Train:\t[2800, 2143, 2708, 1900]\n",
      "Val:\t[2333]\n",
      "----------\n",
      "CV[4]\n",
      "Train:\t[2143, 2708, 1900, 2333]\n",
      "Val:\t[2222]\n",
      "----------\n"
     ]
    }
   ],
   "source": [
    "cv_sliding = sliding_window(train, window_size=4, horizon=1)\n",
    "\n",
    "print('full training set {0}\\n'.format(train))\n",
    "\n",
    "i = 0\n",
    "for cv_train, cv_val in cv_sliding:\n",
    "    print(f'CV[{i+1}]')\n",
    "    print(f'Train:\\t{cv_train}')\n",
    "    print(f'Val:\\t{cv_val}')\n",
    "    print('----------')\n",
    "    i += 1"
   ]
  },
  {
   "cell_type": "markdown",
   "metadata": {},
   "source": [
    "# TimeSeriesSplit"
   ]
  },
  {
   "cell_type": "code",
   "execution_count": 1,
   "metadata": {},
   "outputs": [],
   "source": [
    "import numpy as np\n",
    "from sklearn.model_selection import TimeSeriesSplit"
   ]
  },
  {
   "cell_type": "code",
   "execution_count": 2,
   "metadata": {},
   "outputs": [
    {
     "name": "stdout",
     "output_type": "stream",
     "text": [
      "TimeSeriesSplit(gap=0, max_train_size=None, n_splits=5, test_size=None)\n"
     ]
    }
   ],
   "source": [
    "X = np.array([[1, 2], [3, 4], [1, 2], [3, 4], [1, 2], [3, 4]])\n",
    "y = np.array([1, 2, 3, 4, 5, 6])\n",
    "tscv = TimeSeriesSplit()\n",
    "print(tscv)"
   ]
  },
  {
   "cell_type": "code",
   "execution_count": 3,
   "metadata": {},
   "outputs": [
    {
     "data": {
      "text/plain": [
       "array([[1, 2],\n",
       "       [3, 4],\n",
       "       [1, 2],\n",
       "       [3, 4],\n",
       "       [1, 2],\n",
       "       [3, 4]])"
      ]
     },
     "execution_count": 3,
     "metadata": {},
     "output_type": "execute_result"
    }
   ],
   "source": [
    "X"
   ]
  },
  {
   "cell_type": "code",
   "execution_count": 4,
   "metadata": {},
   "outputs": [
    {
     "name": "stdout",
     "output_type": "stream",
     "text": [
      "TRAIN: [0] TEST: [1]\n",
      "TRAIN: [0 1] TEST: [2]\n",
      "TRAIN: [0 1 2] TEST: [3]\n",
      "TRAIN: [0 1 2 3] TEST: [4]\n",
      "TRAIN: [0 1 2 3 4] TEST: [5]\n"
     ]
    }
   ],
   "source": [
    "for train_index, test_index in tscv.split(X):\n",
    "    print(\"TRAIN:\", train_index, \"TEST:\", test_index)\n",
    "    X_train, X_test = X[train_index], X[test_index]\n",
    "    y_train, y_test = y[train_index], y[test_index]"
   ]
  },
  {
   "cell_type": "code",
   "execution_count": 5,
   "metadata": {},
   "outputs": [
    {
     "data": {
      "text/plain": [
       "array([[1, 2],\n",
       "       [3, 4],\n",
       "       [1, 2],\n",
       "       [3, 4],\n",
       "       [1, 2]])"
      ]
     },
     "execution_count": 5,
     "metadata": {},
     "output_type": "execute_result"
    }
   ],
   "source": [
    "X_train"
   ]
  },
  {
   "cell_type": "code",
   "execution_count": 6,
   "metadata": {},
   "outputs": [
    {
     "data": {
      "text/plain": [
       "array([[3, 4]])"
      ]
     },
     "execution_count": 6,
     "metadata": {},
     "output_type": "execute_result"
    }
   ],
   "source": [
    "X_test"
   ]
  },
  {
   "cell_type": "code",
   "execution_count": 8,
   "metadata": {},
   "outputs": [],
   "source": [
    "# Fix test_size to 2 with 12 samples\n",
    "X = np.random.randn(12, 2)\n",
    "y = np.random.randint(0, 2, 12)"
   ]
  },
  {
   "cell_type": "code",
   "execution_count": 9,
   "metadata": {},
   "outputs": [
    {
     "data": {
      "text/plain": [
       "array([[ 0.38054118,  1.58639799],\n",
       "       [-0.18590741, -0.69542485],\n",
       "       [-0.60448261,  1.37777955],\n",
       "       [-1.20524204,  0.16336728],\n",
       "       [ 0.74271769, -0.6220279 ],\n",
       "       [-1.77683981, -0.253243  ],\n",
       "       [ 0.94565524,  0.42989277],\n",
       "       [-0.67322479, -0.14418229],\n",
       "       [ 0.28660759,  1.31462322],\n",
       "       [ 0.13478586, -0.0146635 ],\n",
       "       [ 0.43824536, -1.89303326],\n",
       "       [-1.40537923,  1.20809026]])"
      ]
     },
     "execution_count": 9,
     "metadata": {},
     "output_type": "execute_result"
    }
   ],
   "source": [
    "X"
   ]
  },
  {
   "cell_type": "code",
   "execution_count": 10,
   "metadata": {},
   "outputs": [
    {
     "data": {
      "text/plain": [
       "array([0, 1, 1, 1, 0, 1, 0, 1, 0, 0, 1, 1])"
      ]
     },
     "execution_count": 10,
     "metadata": {},
     "output_type": "execute_result"
    }
   ],
   "source": [
    "y"
   ]
  },
  {
   "cell_type": "code",
   "execution_count": 11,
   "metadata": {},
   "outputs": [
    {
     "name": "stdout",
     "output_type": "stream",
     "text": [
      "TRAIN: [0 1 2 3 4 5] TEST: [6 7]\n",
      "TRAIN: [0 1 2 3 4 5 6 7] TEST: [8 9]\n",
      "TRAIN: [0 1 2 3 4 5 6 7 8 9] TEST: [10 11]\n"
     ]
    }
   ],
   "source": [
    "tscv = TimeSeriesSplit(n_splits=3, test_size=2)\n",
    "\n",
    "for train_index, test_index in tscv.split(X):\n",
    "    print(\"TRAIN:\", train_index, \"TEST:\", test_index)\n",
    "    X_train, X_test = X[train_index], X[test_index]\n",
    "    y_train, y_test = y[train_index], y[test_index]"
   ]
  },
  {
   "cell_type": "code",
   "execution_count": 12,
   "metadata": {},
   "outputs": [
    {
     "name": "stdout",
     "output_type": "stream",
     "text": [
      "TRAIN: [0 1 2 3] TEST: [6 7]\n",
      "TRAIN: [0 1 2 3 4 5] TEST: [8 9]\n",
      "TRAIN: [0 1 2 3 4 5 6 7] TEST: [10 11]\n"
     ]
    }
   ],
   "source": [
    "# Add in a 2 period gap\n",
    "tscv = TimeSeriesSplit(n_splits=3, test_size=2, gap=2)\n",
    "\n",
    "for train_index, test_index in tscv.split(X):\n",
    "    print(\"TRAIN:\", train_index, \"TEST:\", test_index)\n",
    "    X_train, X_test = X[train_index], X[test_index]\n",
    "    y_train, y_test = y[train_index], y[test_index]"
   ]
  },
  {
   "cell_type": "code",
   "execution_count": null,
   "metadata": {},
   "outputs": [],
   "source": []
  }
 ],
 "metadata": {
  "colab": {
   "authorship_tag": "ABX9TyMKKTmx+WCShkCBJuvc/CsE",
   "include_colab_link": true,
   "provenance": []
  },
  "kernelspec": {
   "display_name": "Python 3 (ipykernel)",
   "language": "python",
   "name": "python3"
  },
  "language_info": {
   "codemirror_mode": {
    "name": "ipython",
    "version": 3
   },
   "file_extension": ".py",
   "mimetype": "text/x-python",
   "name": "python",
   "nbconvert_exporter": "python",
   "pygments_lexer": "ipython3",
   "version": "3.9.7"
  }
 },
 "nbformat": 4,
 "nbformat_minor": 1
}
